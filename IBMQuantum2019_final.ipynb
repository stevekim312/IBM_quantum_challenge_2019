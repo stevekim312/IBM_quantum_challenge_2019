{
 "cells": [
  {
   "cell_type": "code",
   "execution_count": 1,
   "id": "36b48747-0e11-4194-b4f9-f6e962fb2239",
   "metadata": {
    "tags": []
   },
   "outputs": [],
   "source": [
    "import numpy as np\n",
    "from qiskit import QuantumCircuit, transpile\n",
    "from qiskit_aer import AerSimulator\n",
    "from qiskit.visualization import plot_histogram\n",
    "\n",
    "## for display\n",
    "from IPython.display import display"
   ]
  },
  {
   "cell_type": "markdown",
   "id": "c5084480",
   "metadata": {},
   "source": [
    "Final: This problem is about solving \"graph coloring problem\" using grover's algorithm "
   ]
  },
  {
   "cell_type": "markdown",
   "id": "c67bb7b1",
   "metadata": {},
   "source": [
    "We will use a Total of 28 qubits\n",
    "Each District's color is Represented with 2 qubits each, where 00: A, 01: B, 10: C, 11: D.\n",
    "Since we have total of 7 districs that need to be colored, we use total of 14 qubits.\n",
    "\n",
    "We also need qubits for comparing the colors between the districts that are connected, and we have total of 13 edges so we need 13 qubits.(Actually we have more edges but we can reduce them by superpositioning the inputs in the initialzation step)\n",
    "\n",
    "Finally we need one qubit for the oracle so that we can flip the correct states."
   ]
  },
  {
   "cell_type": "code",
   "execution_count": 2,
   "id": "86ea577e-78bd-4662-ba14-f09d5e30f2a3",
   "metadata": {
    "tags": []
   },
   "outputs": [],
   "source": [
    "# Create a Quantum Circuit \n",
    "qc = QuantumCircuit(28,14)\n",
    "theta = 2 * np.arccos(1 / np.sqrt(3))"
   ]
  },
  {
   "cell_type": "markdown",
   "id": "0dde7bfb",
   "metadata": {},
   "source": [
    "Initialization step is where we can reduce the number of edges from 19 to 13 edges.\n",
    "For example, district 0 is initially connected with color A, therefore we know that district 0 cannot have the color A. \n",
    "If we can restrict the colors of district 0 such that it can only be colored with colors B,C,D, we can reduce the edge that connects district 0 with color A.\n",
    "We can restrict the available colors by constructing a superpositioned state that only has 01, 10, 11.\n",
    "The superpositioned state is made using a controlled Hadamard Gate such that A|01> + B|10> + C|11>.\n",
    "And A = B = C, so we use a rotational Y gate to match this condition and we get A = 1/sqrt(3) = cos(theta/2) \n",
    "\n",
    "We repeat this process for evey district that is initially connected to a color."
   ]
  },
  {
   "cell_type": "code",
   "execution_count": 3,
   "id": "8ac23469-c01e-4e03-bc8a-20aae32a0d53",
   "metadata": {
    "tags": []
   },
   "outputs": [],
   "source": [
    "# superposiiton available districts for using less qubits\n",
    "def initialize(qc):\n",
    "    #district 0: 01, 10, 11\n",
    "    qc.ry(theta,0)\n",
    "    qc.ch(0, 1)\n",
    "    qc.x(1)\n",
    "    \n",
    "    #district 1: 00, 10, 11\n",
    "    qc.ry(theta,2)\n",
    "    qc.ch(2, 3)\n",
    "    \n",
    "    #district 2: 01, 11\n",
    "    qc.h(4)\n",
    "    qc.x(5)\n",
    "    \n",
    "    #district 3: 01, 10, 11\n",
    "    qc.ry(theta,6)\n",
    "    qc.ch(6, 7)\n",
    "    qc.x(7)\n",
    "    \n",
    "    #district 4: 00, 10, 11\n",
    "    qc.ry(theta,8)\n",
    "    qc.ch(8, 9)\n",
    "    \n",
    "    #district 5: 01, 10, 00\n",
    "    qc.ry(theta,10)\n",
    "    qc.ch(10, 11)\n",
    "    qc.x(10)\n",
    "    \n",
    "    #district 6: 01, 10, 00\n",
    "    qc.ry(theta,12)\n",
    "    qc.ch(12, 13)\n",
    "    qc.x(12)\n"
   ]
  },
  {
   "cell_type": "code",
   "execution_count": 4,
   "id": "ed55d1db-06e0-4c66-bea8-21ff40aecc25",
   "metadata": {
    "tags": []
   },
   "outputs": [],
   "source": [
    "#edge_list = ([0,1],[0,2],[0,3],[1,3],[1,4],[2,3],[2,5],[2,6],[3,4],[3,5],[3,6],[4,6],[5,6)"
   ]
  },
  {
   "cell_type": "markdown",
   "id": "fa4392d0",
   "metadata": {},
   "source": [
    "Now we need gates to check whether the two districts have the same Color or not\n",
    "The IBM Solution checks whether these two districts have the same color using ccccx gates\n",
    "For example, if both districts are colored with color D(11), they use an ordinary ccccx gate to find out this pair has the same color, and for color A(00) they add not gate to every control bit and use the ccccx gate and etc.....(4 ccccx gates in total)\n",
    "\n",
    "However, these 4 ccccx gates can be reduced using a hypercube into 4 ccx gates."
   ]
  },
  {
   "cell_type": "code",
   "execution_count": 5,
   "id": "6fd63797-5fda-4668-94e4-6878fbf01aed",
   "metadata": {
    "tags": []
   },
   "outputs": [],
   "source": [
    "def color_check(qc, a,b,c,d, result):\n",
    "    qc.barrier()\n",
    "    qc.ccx(a,b,result)\n",
    "    \n",
    "    qc.x(c)\n",
    "    qc.ccx(b,c,result)\n",
    "    qc.x(c)\n",
    "    \n",
    "    qc.x(c)\n",
    "    qc.x(d)\n",
    "    qc.ccx(c,d,result)\n",
    "    qc.x(c)\n",
    "    qc.x(d)\n",
    "    \n",
    "    qc.x(d)\n",
    "    qc.ccx(a,d,result)\n",
    "    qc.x(d)\n",
    "    \n",
    "    qc.barrier()\n",
    "\n"
   ]
  },
  {
   "cell_type": "code",
   "execution_count": 6,
   "id": "cc791d26-5d3c-42c7-89a1-db0fa8332b7c",
   "metadata": {
    "tags": []
   },
   "outputs": [],
   "source": [
    "def color_check_inverse(qc, a,b,c,d, result):\n",
    "    qc.barrier()\n",
    "    qc.x(d)\n",
    "    qc.ccx(a,d,result)\n",
    "    qc.x(d)\n",
    "    \n",
    "    qc.x(c)\n",
    "    qc.x(d)\n",
    "    qc.ccx(c,d,result)\n",
    "    qc.x(c)\n",
    "    qc.x(d)\n",
    "    \n",
    "    qc.x(c)\n",
    "    qc.ccx(b,c,result)\n",
    "    qc.x(c)\n",
    "    \n",
    "    qc.ccx(a,b,result)\n",
    "    \n",
    "   \n",
    "    \n",
    "    qc.barrier()"
   ]
  },
  {
   "cell_type": "markdown",
   "id": "c78e06e5",
   "metadata": {},
   "source": [
    "This is my version of the color check implementation\n",
    "Instead of directly checking the colors, we can easily just check whether the two districts have the same values or not.\n",
    "For example, if district 0 is ab and district 1 is cd and these two are connected, we can check whether a,c are equal, b,d are equal and if both are true, we know that these are the same colors."
   ]
  },
  {
   "cell_type": "code",
   "execution_count": 7,
   "id": "bcfe0526-161b-4a75-b30b-fc8b9e261165",
   "metadata": {
    "tags": []
   },
   "outputs": [],
   "source": [
    "def color_check_1(qc, a,b,c,d, result):\n",
    "    qc.barrier()\n",
    "    qc.cx(a,c)\n",
    "    qc.cx(b,d)\n",
    "    qc.x(c)\n",
    "    qc.x(d)\n",
    "    qc.ccx(c,d,result)\n",
    "    qc.x(d)\n",
    "    qc.x(c)\n",
    "    qc.cx(b,d)\n",
    "    qc.cx(a,c)\n",
    "    qc.barrier()"
   ]
  },
  {
   "cell_type": "code",
   "execution_count": 8,
   "id": "79e16fd7-a986-4bff-bcd5-fdbc94835b81",
   "metadata": {
    "tags": []
   },
   "outputs": [],
   "source": [
    "def color_check_inverse_1(qc, a,b,c,d, result):\n",
    "    qc.barrier()\n",
    "    qc.cx(a,c)\n",
    "    qc.cx(b,d)\n",
    "    qc.x(c)\n",
    "    qc.x(d)\n",
    "    qc.ccx(c,d,result)\n",
    "    qc.x(d)\n",
    "    qc.x(c)\n",
    "    qc.cx(b,d)\n",
    "    qc.cx(a,c)\n",
    "    qc.barrier()"
   ]
  },
  {
   "cell_type": "markdown",
   "id": "82b5dc8f",
   "metadata": {},
   "source": [
    "Now we can make the oracle that flips the phase of the correct state\n",
    "Color check determines whether they have the same colors, and if they have the same colors, the result flipped with a \"not\" operation\n",
    "Therefore, we have to make the result qubits into 1 in the first place, such that when its not done a \"not\" operation, it is indicated as 1, meaning that they don't have the same colors"
   ]
  },
  {
   "cell_type": "code",
   "execution_count": 9,
   "id": "6e4243f8-1d11-4f7c-afc5-07fae46a2783",
   "metadata": {
    "tags": []
   },
   "outputs": [],
   "source": [
    "def oracle(qc):\n",
    "    for i in range(14, 27):#14~26, \n",
    "        qc.x(i)\n",
    "    color_check_1(qc, 0, 1, 2, 3, 14)\n",
    "    color_check_1(qc, 0, 1, 4, 5, 15)\n",
    "    color_check_1(qc, 0, 1, 6, 7, 16)\n",
    "    color_check_1(qc, 2, 3, 6, 7, 17)\n",
    "    color_check_1(qc, 2, 3, 8, 9, 18)\n",
    "    color_check_1(qc, 4, 5, 6, 7, 19)\n",
    "    color_check_1(qc, 4, 5, 10, 11, 20)\n",
    "    color_check_1(qc, 4, 5, 12, 13, 21)\n",
    "    color_check_1(qc, 6, 7, 8, 9, 22)\n",
    "    color_check_1(qc, 6, 7, 10, 11, 23)\n",
    "    color_check_1(qc, 6, 7, 12, 13, 24)\n",
    "    color_check_1(qc, 8, 9, 12, 13, 25)\n",
    "    color_check_1(qc, 10, 11, 12, 13, 26)\n",
    "\n",
    "    qc.barrier()\n",
    "    qc.x(27)\n",
    "    qc.h(27)\n",
    "    qc.mcx([14, 15, 16, 17, 18, 19, 20, 21, 22, 23,24, 25, 26], 27)\n",
    "    qc.h(27)\n",
    "    qc.x(27)\n",
    "    \n",
    "    qc.barrier()\n",
    "    \n",
    "    color_check_inverse_1(qc, 10, 11, 12, 13, 26)\n",
    "    color_check_inverse_1(qc, 8, 9, 12, 13, 25)\n",
    "    color_check_inverse_1(qc, 6, 7, 12, 13, 24)\n",
    "    color_check_inverse_1(qc, 6, 7, 10, 11, 23)\n",
    "    color_check_inverse_1(qc, 6, 7, 8, 9, 22)\n",
    "    color_check_inverse_1(qc, 4, 5, 12, 13, 21)\n",
    "    color_check_inverse_1(qc, 4, 5, 10, 11, 20)\n",
    "    color_check_inverse_1(qc, 4, 5, 6, 7, 19)\n",
    "    color_check_inverse_1(qc, 2, 3, 8, 9, 18)\n",
    "    color_check_inverse_1(qc, 2, 3, 6, 7, 17)\n",
    "    color_check_inverse_1(qc, 0, 1, 6, 7, 16)\n",
    "    color_check_inverse_1(qc, 0, 1, 4, 5, 15)\n",
    "    color_check_inverse_1(qc, 0, 1, 2, 3, 14)\n",
    "    \n",
    "    \n",
    "    for i in range(14, 27):#14~26\n",
    "        qc.x(i)"
   ]
  },
  {
   "cell_type": "code",
   "execution_count": 10,
   "id": "7d7c9d5d-39d3-4017-80b4-53511bff684d",
   "metadata": {
    "tags": []
   },
   "outputs": [],
   "source": [
    "def initialize_inverse(qc):\n",
    "    #district 0: 01, 10, 11\n",
    "    qc.x(1)\n",
    "    qc.ch(0, 1)\n",
    "    qc.ry(-theta,0)\n",
    "    \n",
    "    #district 1: 00, 10, 11\n",
    "    qc.ch(2, 3)\n",
    "    qc.ry(-theta,2)\n",
    "    \n",
    "    #district 2: 01, 11\n",
    "    qc.x(5)\n",
    "    qc.h(4)\n",
    "    \n",
    "    #district 3: 01, 10, 11\n",
    "    qc.x(7)\n",
    "    qc.ch(6, 7)\n",
    "    qc.ry(-theta,6)\n",
    "    \n",
    "    #district 4: 00, 10, 11\n",
    "    qc.ch(8, 9)\n",
    "    qc.ry(-theta,8)\n",
    "    \n",
    "    #district 5: 01, 10, 00\n",
    "    qc.x(10)\n",
    "    qc.ch(10, 11)\n",
    "    qc.ry(-theta,10)\n",
    "    \n",
    "    #district 6: 01, 10, 00\n",
    "    qc.x(12)\n",
    "    qc.ch(12, 13)\n",
    "    qc.ry(-theta,12)"
   ]
  },
  {
   "cell_type": "markdown",
   "id": "17a2e636",
   "metadata": {},
   "source": [
    "This part is the Grover's Diffusion process"
   ]
  },
  {
   "cell_type": "code",
   "execution_count": 11,
   "id": "8e2f72c3-7d47-40b9-a708-4e114a62e5cf",
   "metadata": {
    "tags": []
   },
   "outputs": [],
   "source": [
    "def diffusion(qc):\n",
    "    initialize_inverse(qc)\n",
    "    for i in range(0, 14):#0~13\n",
    "        qc.x(i)\n",
    "    qc.h(13)\n",
    "    qc.mcx([0,1,2,3,4,5,6,7,8,9,10,11,12],13)\n",
    "    qc.h(13)\n",
    "    for i in range(0, 14):#0~13\n",
    "        qc.x(i)\n",
    "    initialize(qc)"
   ]
  },
  {
   "cell_type": "markdown",
   "id": "52cdc11e",
   "metadata": {},
   "source": [
    "Now, since we have all the pieces, we can assemble them to make a Grover's Algorithm circuit with iteration 5(iteration value is given be the quantum challenge document but it can be calculated easily)"
   ]
  },
  {
   "cell_type": "code",
   "execution_count": 12,
   "id": "274ca7b7-430a-4d9a-bab5-2e1a8a51634d",
   "metadata": {
    "tags": []
   },
   "outputs": [
    {
     "data": {
      "text/plain": [
       "<qiskit.circuit.instructionset.InstructionSet at 0x7fc2063f9cc0>"
      ]
     },
     "execution_count": 12,
     "metadata": {},
     "output_type": "execute_result"
    }
   ],
   "source": [
    "initialize(qc)\n",
    "\n",
    "for i in range(5):\n",
    "    oracle(qc)\n",
    "    diffusion(qc)\n",
    "    \n",
    "qc.barrier()\n",
    "qc.measure([0,1,2,3,4,5,6,7,8,9,10,11,12,13], [0,1,2,3,4,5,6,7,8,9,10,11,12,13])\n",
    "#display(qc.draw())"
   ]
  },
  {
   "cell_type": "code",
   "execution_count": 13,
   "id": "ca774ba8-97fc-4dbf-8a28-6f6bdde0c696",
   "metadata": {
    "tags": []
   },
   "outputs": [
    {
     "name": "stdout",
     "output_type": "stream",
     "text": [
      "CPU times: user 1h 3min 20s, sys: 12.4 s, total: 1h 3min 33s\n",
      "Wall time: 20min 39s\n"
     ]
    }
   ],
   "source": [
    "%%time\n",
    "compiled_circuit = transpile(qc, simulator)\n",
    "\n",
    "# Execute the circuit on the qasm simulator\n",
    "job = simulator.run(compiled_circuit, shots=8000)\n",
    "\n",
    "# Grab results from the job\n",
    "result = job.result()\n",
    "#print(result)\n",
    "# Returns counts\n",
    "counts = result.get_counts(compiled_circuit)\n"
   ]
  },
  {
   "cell_type": "markdown",
   "id": "b1375616",
   "metadata": {},
   "source": [
    "We get the results of the to 15 counts and we get the 9 solutions as below!"
   ]
  },
  {
   "cell_type": "code",
   "execution_count": 14,
   "id": "d9c8de6a-7b21-45c3-b2ca-97b49d2b05a4",
   "metadata": {
    "tags": []
   },
   "outputs": [
    {
     "data": {
      "text/plain": [
       "[('00101101110010', 540),\n",
       " ('00011110110001', 530),\n",
       " ('01001110110001', 529),\n",
       " ('10000001111110', 524),\n",
       " ('10001101110010', 521),\n",
       " ('00010110111101', 487),\n",
       " ('00010111100001', 480),\n",
       " ('01000010111101', 479),\n",
       " ('00010110110001', 468),\n",
       " ('00010101100010', 8),\n",
       " ('00010011100001', 8),\n",
       " ('01000011100011', 8),\n",
       " ('01010101100111', 8),\n",
       " ('00000101111101', 7),\n",
       " ('00100111111101', 7)]"
      ]
     },
     "execution_count": 14,
     "metadata": {},
     "output_type": "execute_result"
    }
   ],
   "source": [
    "score_sorted = sorted(counts.items(), key=lambda x:x[1], reverse=True)\n",
    "final_score = score_sorted[0:15]\n",
    "final_score"
   ]
  },
  {
   "cell_type": "code",
   "execution_count": null,
   "id": "acdab51b-44d5-48dd-b5d2-fa56dbe7f80a",
   "metadata": {},
   "outputs": [],
   "source": [
    "#original answer\n",
    "[('00010110110001', 577),\n",
    " ('01001110110001', 521),\n",
    " ('01000010111101', 518),\n",
    " ('10001101110010', 510),\n",
    " ('00101101110010', 508),\n",
    " ('00011110110001', 503),\n",
    " ('00010111100001', 500),\n",
    " ('10000001111110', 500),\n",
    " ('00010110111101', 455),\n",
    " ('01001101100101', 9),\n",
    " ('10010111111101', 9),\n",
    " ('00100110101101', 8),\n",
    " ('10100111101111', 8),\n",
    " ('00100101111111', 8),\n",
    " ('10000101100111', 8)]"
   ]
  },
  {
   "cell_type": "code",
   "execution_count": null,
   "id": "a2b2bb5a-595f-45a3-89e2-afcf85adbe03",
   "metadata": {},
   "outputs": [],
   "source": [
    "#with my answer\n",
    "[('00101101110010', 540),\n",
    " ('00011110110001', 530),\n",
    " ('01001110110001', 529),\n",
    " ('10000001111110', 524),\n",
    " ('10001101110010', 521),\n",
    " ('00010110111101', 487),\n",
    " ('00010111100001', 480),\n",
    " ('01000010111101', 479),\n",
    " ('00010110110001', 468),\n",
    " ('00010101100010', 8),\n",
    " ('00010011100001', 8),\n",
    " ('01000011100011', 8),\n",
    " ('01010101100111', 8),\n",
    " ('00000101111101', 7),\n",
    " ('00100111111101', 7)]"
   ]
  },
  {
   "cell_type": "markdown",
   "id": "c8632be6",
   "metadata": {},
   "source": [
    "I tried calculating the circuit's cost but the kernel died every time when I tried to unroll this circuit"
   ]
  }
 ],
 "metadata": {
  "kernelspec": {
   "display_name": "Qiskit v1.0.2 (ipykernel)",
   "language": "python",
   "name": "python3"
  },
  "language_info": {
   "codemirror_mode": {
    "name": "ipython",
    "version": 3
   },
   "file_extension": ".py",
   "mimetype": "text/x-python",
   "name": "python",
   "nbconvert_exporter": "python",
   "pygments_lexer": "ipython3",
   "version": "3.10.8"
  },
  "widgets": {
   "application/vnd.jupyter.widget-state+json": {
    "state": {},
    "version_major": 2,
    "version_minor": 0
   }
  }
 },
 "nbformat": 4,
 "nbformat_minor": 5
}
